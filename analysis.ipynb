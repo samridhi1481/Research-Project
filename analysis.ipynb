{
  "nbformat": 4,
  "nbformat_minor": 0,
  "metadata": {
    "colab": {
      "provenance": []
    },
    "kernelspec": {
      "name": "python3",
      "display_name": "Python 3"
    },
    "language_info": {
      "name": "python"
    }
  },
  "cells": [
    {
      "cell_type": "code",
      "execution_count": 1,
      "metadata": {
        "id": "l5P-WgnVTN2M",
        "colab": {
          "base_uri": "https://localhost:8080/"
        },
        "outputId": "0ede92c7-0ad2-4696-cf68-db2a2d9d8a68"
      },
      "outputs": [
        {
          "output_type": "stream",
          "name": "stdout",
          "text": [
            "Hello My World\n"
          ]
        }
      ],
      "source": [
        "print(\"Hello My World\");"
      ]
    }
  ]
}